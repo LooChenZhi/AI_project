{
 "cells": [
  {
   "cell_type": "markdown",
   "metadata": {
    "cell_id": "6429f5ef-ace9-443a-ae97-2d1fa7a3b80d",
    "deepnote_cell_type": "text-cell-h1",
    "is_collapsed": false,
    "tags": []
   },
   "source": [
    "# Question 1 : Vacation Planner"
   ]
  },
  {
   "cell_type": "markdown",
   "metadata": {
    "cell_id": "00001-e258d41e-b9e2-4c7c-a149-0b7b97d3804d",
    "deepnote_cell_height": 52.390625,
    "deepnote_cell_type": "markdown",
    "id": "tis4WKr33We-"
   },
   "source": [
    "Import Libraries"
   ]
  },
  {
   "cell_type": "code",
   "execution_count": 1,
   "metadata": {
    "cell_id": "00002-cbbe2781-2121-43a1-aaa8-90b452689bd8",
    "deepnote_cell_height": 171,
    "deepnote_cell_type": "code",
    "deepnote_to_be_reexecuted": false,
    "execution_millis": 758,
    "execution_start": 1648975753858,
    "id": "hdRqD6lE3N5p",
    "source_hash": "96e069e9"
   },
   "outputs": [],
   "source": [
    "from random import randint\n",
    "import random\n",
    "\n",
    "import pandas as pd\n",
    "import numpy as np\n",
    "import matplotlib.pyplot as plt"
   ]
  },
  {
   "cell_type": "markdown",
   "metadata": {
    "cell_id": "00003-a5c19f56-478d-4477-8fa4-e84a31e4e75f",
    "deepnote_cell_height": 52.390625,
    "deepnote_cell_type": "markdown",
    "id": "LL6PRq_x3rrX"
   },
   "source": [
    "Individual Function"
   ]
  },
  {
   "cell_type": "code",
   "execution_count": 11,
   "metadata": {
    "cell_id": "00004-fac482d4-5461-4594-b493-22d2c012f532",
    "colab": {
     "base_uri": "https://localhost:8080/"
    },
    "deepnote_cell_height": 333,
    "deepnote_cell_type": "code",
    "deepnote_output_heights": [
     21.1875
    ],
    "deepnote_to_be_reexecuted": false,
    "execution_millis": 2,
    "execution_start": 1648975754620,
    "id": "hrebAVTY3l-k",
    "outputId": "2f5a76be-537e-4409-ef56-d64e0c9f66e9",
    "source_hash": "14083a5d"
   },
   "outputs": [],
   "source": [
    "money_on_hand = 5000    #budget\n",
    "duration = 5            #5days4night\n",
    "\n",
    "# Create an individual list. An individual is a member of a population.\n",
    "# Range each parameter\n",
    "def individual():\n",
    "    hotel = random.randint(100,500)\n",
    "    t_spots = random.randint(2, 10)\n",
    "    one_t_spots = random.randint(5, 300)\n",
    "    food_per_meals = random.randint(10, 100)\n",
    "    t_fee = random.randint(5, 100)\n",
    "    t_fre = random.randint(1,10)\n",
    "     \n",
    "    return [hotel,food_per_meals,t_spots,one_t_spots,t_fee,t_fre] \n",
    "          #[HotelBudget,FoodBudget,TouristSpots,OneTouristSpots,TransportFees,Transport Frequency]"
   ]
  },
  {
   "cell_type": "markdown",
   "metadata": {
    "cell_id": "00005-accd9339-ce1d-48dc-a484-39900bca1627",
    "deepnote_cell_height": 52.390625,
    "deepnote_cell_type": "markdown",
    "id": "WDBPKxSv4XlZ"
   },
   "source": [
    "Population function"
   ]
  },
  {
   "cell_type": "code",
   "execution_count": 12,
   "metadata": {
    "cell_id": "00006-33358231-86c2-40fa-aefd-38418f9120f4",
    "colab": {
     "base_uri": "https://localhost:8080/"
    },
    "deepnote_cell_height": 135,
    "deepnote_cell_type": "code",
    "deepnote_to_be_reexecuted": false,
    "execution_millis": 5,
    "execution_start": 1648975754623,
    "id": "BWugmjH137zv",
    "outputId": "3106dc86-ab61-49a6-d5bc-222d3d3555c5",
    "source_hash": "2e996938"
   },
   "outputs": [],
   "source": [
    "# Create population contains individuals\n",
    "# The collection of all individuals is referred to as our population.\n",
    "def population(count):\n",
    "    return [individual() for x in range(count)]"
   ]
  },
  {
   "cell_type": "markdown",
   "metadata": {
    "cell_id": "00007-1e570b49-2d68-4e11-ae07-8311c7ea338c",
    "deepnote_cell_height": 52.390625,
    "deepnote_cell_type": "markdown",
    "id": "hyFTovXW4tl7"
   },
   "source": [
    "Fitness function"
   ]
  },
  {
   "cell_type": "code",
   "execution_count": 13,
   "metadata": {
    "cell_id": "00008-44f61c38-efbd-4e50-bef5-9347aef18591",
    "colab": {
     "base_uri": "https://localhost:8080/"
    },
    "deepnote_cell_height": 171,
    "deepnote_cell_type": "code",
    "deepnote_output_heights": [
     155.5,
     21.1875
    ],
    "deepnote_to_be_reexecuted": false,
    "execution_millis": 7,
    "execution_start": 1648975754631,
    "id": "Mz1q9aQl4soK",
    "outputId": "b34d8082-7a1d-4ab1-a707-3a375aafffe0",
    "source_hash": "b8b5f5a3"
   },
   "outputs": [],
   "source": [
    "# Count the fitness function for an individual\n",
    "# Calculate the range between money on hand with total\n",
    "def fitness(individual):\n",
    "    # [hotel,food_per_meals,t_spots,one_t_spots,t_fee,t_fre]\n",
    "    total = individual[0]*4 + individual[1]*3*duration + individual[2]*individual[3] + individual[4]*individual[5]*duration\n",
    "    return abs(money_on_hand - total)"
   ]
  },
  {
   "cell_type": "markdown",
   "metadata": {
    "cell_id": "00009-a15c9715-1e3e-48da-ac74-b30625cf26dc",
    "deepnote_cell_height": 52.390625,
    "deepnote_cell_type": "markdown",
    "id": "gTv5-iy84zx4"
   },
   "source": [
    "Average fitness function"
   ]
  },
  {
   "cell_type": "code",
   "execution_count": 14,
   "metadata": {
    "cell_id": "00010-4a4589d4-3c8c-4ead-adeb-888b43c0fd73",
    "colab": {
     "base_uri": "https://localhost:8080/"
    },
    "deepnote_cell_height": 135,
    "deepnote_cell_type": "code",
    "deepnote_output_heights": [
     null,
     21.1875
    ],
    "deepnote_to_be_reexecuted": false,
    "execution_millis": 5,
    "execution_start": 1648975754639,
    "id": "EKYoxLuj4yi7",
    "outputId": "c9e6d96c-4d52-416f-850b-d70d52e19990",
    "source_hash": "d43e55d5"
   },
   "outputs": [],
   "source": [
    "# Calculate the fitness function to retrieve average fitness for a population\n",
    "def average_fitness(pop):\n",
    "    summed = [fitness(i) for i in pop]\n",
    "    return (sum(summed) / len(pop))"
   ]
  },
  {
   "cell_type": "markdown",
   "metadata": {
    "cell_id": "00011-cb5b93ed-61b8-40b8-857b-5dff40ea463c",
    "deepnote_cell_height": 52.390625,
    "deepnote_cell_type": "markdown",
    "id": "F9FDcE5v4-qd"
   },
   "source": [
    "Evolution Function"
   ]
  },
  {
   "cell_type": "code",
   "execution_count": 15,
   "metadata": {
    "cell_id": "00012-d5a5dade-3f11-4685-9a9f-bc7869755990",
    "deepnote_cell_height": 675,
    "deepnote_cell_type": "code",
    "deepnote_to_be_reexecuted": false,
    "execution_millis": 42,
    "execution_start": 1648975754652,
    "id": "0BiMM8q847qV",
    "source_hash": "82afbead"
   },
   "outputs": [],
   "source": [
    "def evolve(pop, retain = 0.2, random_select = 0.05, mutate = 0.01):\n",
    "    \n",
    "    graded = [(fitness(x), x) for x in pop]\n",
    "    sort_graded = [x[1]for x in sorted(graded)]  # x [1] because x has two component, just take the list --> e.g. [(50,[41,38,86,30,55])]\n",
    "    retain_length = int(len(sort_graded)*retain) # how many top % parents to be remainded\n",
    "    parents = sort_graded[0:retain_length] # get the list of array of individuals as parents - after sorted\n",
    "\n",
    "    # randomly add other individuals to promote genetic diversity\n",
    "    for individual in sort_graded[retain_length:]: # get from the remaining individuals NOT selected as parents initially !\n",
    "        if random_select > random.random():\n",
    "            parents.append(individual)\n",
    "\n",
    "    # mutate some individuals\n",
    "    for individual in parents:\n",
    "        if mutate > random.random():\n",
    "            pos_to_mutate =randint(0, len(individual) - 1)\n",
    "            individual[pos_to_mutate] = randint(min(individual), max(individual))\n",
    "\n",
    "    # crossover parents to create children\n",
    "    parents_length = len(parents)\n",
    "    desired_length = len(pop) - parents_length\n",
    "    children = []\n",
    "    while len(children) < desired_length:\n",
    "        male = randint(0, parents_length - 1)\n",
    "        female = randint(0, parents_length - 1)\n",
    "        if male != female:\n",
    "            male = parents[male]\n",
    "            female = parents[female]\n",
    "            half = int(len(male)/2)\n",
    "            child = male[:half] + female[half:]\n",
    "            children.append(child)\n",
    "    parents.extend(children)\n",
    "    \n",
    "    return parents"
   ]
  },
  {
   "cell_type": "markdown",
   "metadata": {
    "cell_id": "00013-9c76c130-fe59-4142-b937-a46547862b1f",
    "deepnote_cell_height": 52.390625,
    "deepnote_cell_type": "markdown",
    "id": "D_Cmj0JQ5E1d"
   },
   "source": [
    "Result"
   ]
  },
  {
   "cell_type": "code",
   "execution_count": 16,
   "metadata": {
    "cell_id": "00014-0364b1af-a108-4f8a-8bed-81da67660dcb",
    "colab": {
     "base_uri": "https://localhost:8080/"
    },
    "deepnote_cell_height": 1032,
    "deepnote_cell_type": "code",
    "deepnote_output_heights": [
     611,
     611
    ],
    "deepnote_to_be_reexecuted": false,
    "execution_millis": 29,
    "execution_start": 1648975754694,
    "id": "ytyJ5M2Q5EJX",
    "outputId": "28713ea6-7506-4b2b-b5a0-f23add8b7e1b",
    "source_hash": "38567026"
   },
   "outputs": [
    {
     "data": {
      "text/plain": [
       "[[270, 27, 5, 210, 70, 7],\n",
       " 803.33,\n",
       " [451, 58, 8, 81, 37, 9],\n",
       " 581.54,\n",
       " [451, 58, 8, 81, 37, 9],\n",
       " 447.17,\n",
       " [490, 33, 10, 115, 93, 3],\n",
       " 330.3,\n",
       " [490, 33, 10, 115, 93, 3],\n",
       " 6.03,\n",
       " [490, 33, 10, 115, 93, 3],\n",
       " 0.16,\n",
       " [490, 33, 10, 115, 93, 3],\n",
       " 20.0,\n",
       " [490, 33, 10, 115, 93, 3],\n",
       " 0.0,\n",
       " [490, 33, 10, 115, 93, 3],\n",
       " 65.1,\n",
       " [490, 33, 10, 115, 93, 3],\n",
       " 127.8,\n",
       " [490, 33, 10, 115, 93, 3],\n",
       " 127.8,\n",
       " [490, 33, 10, 115, 93, 3],\n",
       " 24.0,\n",
       " [490, 33, 10, 115, 93, 3],\n",
       " 141.0,\n",
       " [490, 33, 10, 115, 93, 3],\n",
       " 14.4,\n",
       " [490, 33, 10, 115, 93, 3],\n",
       " 0.0,\n",
       " [490, 33, 10, 115, 93, 3],\n",
       " 0.0,\n",
       " [490, 33, 10, 115, 93, 3],\n",
       " 0.0,\n",
       " [490, 33, 10, 115, 93, 3],\n",
       " 0.0,\n",
       " [490, 33, 10, 115, 93, 3],\n",
       " 60.8,\n",
       " [490, 33, 10, 115, 93, 3],\n",
       " 24.32,\n",
       " [490, 33, 10, 115, 93, 3],\n",
       " 0.0,\n",
       " [490, 33, 10, 115, 93, 3],\n",
       " 0.0,\n",
       " [490, 33, 10, 115, 93, 3],\n",
       " 0.0,\n",
       " [490, 33, 10, 115, 93, 3],\n",
       " 0.0,\n",
       " [490, 33, 10, 115, 93, 3],\n",
       " 0.0,\n",
       " [490, 33, 10, 115, 93, 3],\n",
       " 57.6,\n",
       " [490, 33, 10, 115, 93, 3],\n",
       " 0.0,\n",
       " [490, 33, 10, 115, 93, 3],\n",
       " 0.0,\n",
       " [490, 33, 10, 115, 93, 3],\n",
       " 0.0,\n",
       " [490, 33, 10, 115, 93, 3],\n",
       " 1.8,\n",
       " [490, 33, 10, 115, 93, 3],\n",
       " 0.0,\n",
       " [490, 33, 10, 115, 93, 3],\n",
       " 7384.2,\n",
       " [490, 33, 10, 115, 93, 3],\n",
       " 0.0,\n",
       " [490, 33, 10, 115, 93, 3],\n",
       " 0.0,\n",
       " [490, 33, 10, 115, 93, 3],\n",
       " 0.0,\n",
       " [490, 33, 10, 115, 93, 3],\n",
       " 0.0,\n",
       " [490, 33, 10, 115, 93, 3],\n",
       " 0.0,\n",
       " [490, 33, 10, 115, 93, 3],\n",
       " 0.0,\n",
       " [490, 33, 10, 115, 93, 3],\n",
       " 0.0,\n",
       " [490, 33, 10, 115, 93, 3],\n",
       " 0.0,\n",
       " [490, 33, 10, 115, 93, 3],\n",
       " 0.0,\n",
       " [490, 33, 10, 115, 93, 3],\n",
       " 0.0,\n",
       " [490, 33, 10, 115, 93, 3],\n",
       " 0.0,\n",
       " [490, 33, 10, 115, 93, 3],\n",
       " 0.0,\n",
       " [490, 33, 10, 115, 93, 3],\n",
       " 0.0,\n",
       " [490, 33, 10, 115, 93, 3],\n",
       " 0.0,\n",
       " [490, 33, 10, 115, 93, 3],\n",
       " 0.0,\n",
       " [490, 33, 10, 115, 93, 3],\n",
       " 0.0,\n",
       " [490, 33, 10, 115, 93, 3],\n",
       " 0.0,\n",
       " [490, 33, 10, 115, 93, 3],\n",
       " 0.0,\n",
       " [490, 33, 10, 115, 93, 3],\n",
       " 0.0,\n",
       " [490, 33, 10, 115, 93, 3],\n",
       " 0.0,\n",
       " [490, 33, 10, 115, 93, 3],\n",
       " 0.0,\n",
       " [490, 33, 10, 115, 93, 3],\n",
       " 0.0,\n",
       " [490, 33, 10, 115, 93, 3],\n",
       " 0.0,\n",
       " [490, 33, 10, 115, 93, 3],\n",
       " 0.0,\n",
       " [490, 33, 10, 115, 93, 3],\n",
       " 0.0,\n",
       " [490, 33, 10, 115, 93, 3],\n",
       " 7277.25,\n",
       " [490, 33, 10, 115, 93, 3],\n",
       " 0.0,\n",
       " [490, 33, 10, 115, 93, 3],\n",
       " 33.84,\n",
       " [490, 33, 10, 115, 93, 3],\n",
       " 0.0,\n",
       " [490, 33, 10, 115, 93, 3],\n",
       " 0.0,\n",
       " [490, 33, 10, 115, 93, 3],\n",
       " 0.0,\n",
       " [490, 33, 10, 115, 93, 3],\n",
       " 0.0,\n",
       " [490, 33, 10, 115, 93, 3],\n",
       " 0.0,\n",
       " [490, 33, 10, 115, 93, 3],\n",
       " 0.0,\n",
       " [490, 33, 10, 115, 93, 3],\n",
       " 1585.65,\n",
       " [490, 33, 10, 115, 93, 3],\n",
       " 0.0,\n",
       " [490, 33, 10, 115, 93, 3],\n",
       " 0.0,\n",
       " [490, 33, 10, 115, 93, 3],\n",
       " 113.25,\n",
       " [490, 33, 10, 115, 93, 3],\n",
       " 0.0,\n",
       " [490, 33, 10, 115, 93, 3],\n",
       " 32.7,\n",
       " [490, 33, 10, 115, 93, 3],\n",
       " 0.0,\n",
       " [490, 33, 10, 115, 93, 3],\n",
       " 12148.38,\n",
       " [490, 33, 10, 115, 93, 3],\n",
       " 0.72,\n",
       " [490, 33, 10, 115, 93, 3],\n",
       " 0.0,\n",
       " [490, 33, 10, 115, 93, 3],\n",
       " 0.0,\n",
       " [490, 33, 10, 115, 93, 3],\n",
       " 0.0,\n",
       " [490, 33, 10, 115, 93, 3],\n",
       " 82.8,\n",
       " [490, 33, 10, 115, 93, 3],\n",
       " 21.0,\n",
       " [490, 33, 10, 115, 93, 3],\n",
       " 15.75,\n",
       " [490, 33, 10, 115, 93, 3],\n",
       " 0.0,\n",
       " [490, 33, 10, 115, 93, 3],\n",
       " 0.0,\n",
       " [490, 33, 10, 115, 93, 3],\n",
       " 0.0,\n",
       " [490, 33, 10, 115, 93, 3],\n",
       " 0.0,\n",
       " [490, 33, 10, 115, 93, 3],\n",
       " 0.0,\n",
       " [490, 33, 10, 115, 93, 3],\n",
       " 8146.75,\n",
       " [490, 33, 10, 115, 93, 3],\n",
       " 0.0,\n",
       " [490, 33, 10, 115, 93, 3],\n",
       " 0.0,\n",
       " [490, 33, 10, 115, 93, 3],\n",
       " 0.0,\n",
       " [490, 33, 10, 115, 93, 3],\n",
       " 335.7,\n",
       " [490, 33, 10, 115, 93, 3],\n",
       " 0.0,\n",
       " [490, 33, 10, 115, 93, 3],\n",
       " 0.0,\n",
       " [490, 33, 10, 115, 93, 3],\n",
       " 0.0,\n",
       " [490, 33, 10, 115, 93, 3],\n",
       " 0.0,\n",
       " [490, 33, 10, 115, 93, 3],\n",
       " 0.0,\n",
       " [490, 33, 10, 115, 93, 3],\n",
       " 0.0,\n",
       " [490, 33, 10, 115, 93, 3],\n",
       " 0.0,\n",
       " [490, 33, 10, 115, 93, 3],\n",
       " 175.5,\n",
       " [490, 33, 10, 115, 93, 3],\n",
       " 130.8]"
      ]
     },
     "execution_count": 16,
     "metadata": {},
     "output_type": "execute_result"
    }
   ],
   "source": [
    "# Decalaration of list\n",
    "value_lst =[]\n",
    "fitness_history = []\n",
    "\n",
    "p_count = 100\n",
    "n_generation = 100\n",
    "\n",
    "p = population(p_count)\n",
    "\n",
    "# Iterate and modeling for result\n",
    "for i in range(n_generation):\n",
    "    p = evolve(p)\n",
    "    value = average_fitness(p)\n",
    "    fitness_history.append(value)\n",
    "    value_lst.append(p[0])\n",
    "    value_lst.append(value)\n",
    "\n",
    "value_lst #print result\n"
   ]
  },
  {
   "cell_type": "code",
   "execution_count": 17,
   "metadata": {
    "cell_id": "00015-d3f3c182-05a4-479d-8950-3807c4b8affa",
    "deepnote_cell_height": 525.6875,
    "deepnote_cell_type": "code",
    "deepnote_output_heights": [
     21.1875,
     289.8125
    ],
    "deepnote_to_be_reexecuted": false,
    "execution_millis": 2,
    "execution_start": 1648975754722,
    "source_hash": "5e5540d8",
    "tags": []
   },
   "outputs": [
    {
     "name": "stdout",
     "output_type": "stream",
     "text": [
      "Best Solution :\n",
      "Money on hand       = RM 5000\n",
      "Vacation duration   = 5 days\n",
      "Hotel Price         = RM 490\n",
      "Food Price          = RM 33 per meal\n",
      "Travel Spot         = 10 spots\n",
      "One Spot Price      = RM 115\n",
      "Transport Fee       = RM 93\n",
      "Transport Frequency = 3 trip per day\n"
     ]
    }
   ],
   "source": [
    "best_model = value_lst[-2]\n",
    "\n",
    "def best_solution():\n",
    "    # [hotel,food,t_spots,one_t_spots,t_fee,t_fre]\n",
    "    print(\"Best Solution :\")\n",
    "    print(\"Money on hand       = RM\",money_on_hand)\n",
    "    print(\"Vacation duration   =\",duration,\"days\")\n",
    "    print(\"Hotel Price         = RM\", best_model[0])\n",
    "    print(\"Food Price          = RM\", best_model[1],\"per meal\")\n",
    "    print(\"Travel Spot         =\",best_model[2],\"spots\")\n",
    "    print(\"One Spot Price      = RM\", best_model[3])\n",
    "    print(\"Transport Fee       = RM\", best_model[4])\n",
    "    print(\"Transport Frequency =\", best_model[5],\"trip per day\")\n",
    "\n",
    "best_solution()"
   ]
  },
  {
   "cell_type": "code",
   "execution_count": 18,
   "metadata": {
    "cell_id": "669af157570a41f48b668f0d4b154580",
    "deepnote_cell_height": 130.1875,
    "deepnote_cell_type": "code",
    "deepnote_to_be_reexecuted": false,
    "execution_millis": 543,
    "execution_start": 1648975789717,
    "source_hash": "3e0da6c6",
    "tags": []
   },
   "outputs": [
    {
     "name": "stdout",
     "output_type": "stream",
     "text": [
      "Total expenses: RM 5000\n"
     ]
    }
   ],
   "source": [
    "total = best_model[0]*4 + best_model[1]*3*duration + best_model[2]*best_model[3] + best_model[4]*best_model[5]*duration\n",
    "print(\"Total expenses: RM\", total)"
   ]
  },
  {
   "cell_type": "markdown",
   "metadata": {
    "cell_id": "00016-5684bc98-cbb7-4c5e-a66c-e6a7c7e70bb5",
    "deepnote_cell_height": 52.390625,
    "deepnote_cell_type": "markdown",
    "tags": []
   },
   "source": [
    "Plotting Chart"
   ]
  },
  {
   "cell_type": "code",
   "execution_count": 19,
   "metadata": {
    "cell_id": "0db6361aace842cd9370642c51edf4b0",
    "deepnote_cell_height": 953.1875,
    "deepnote_cell_type": "code",
    "deepnote_output_heights": [
     21.1875,
     606,
     309
    ],
    "deepnote_to_be_reexecuted": false,
    "execution_millis": 238,
    "execution_start": 1648975793549,
    "source_hash": "d4f4af96",
    "tags": []
   },
   "outputs": [
    {
     "data": {
      "text/plain": [
       "Text(0.5, 1.0, 'Fitness vs Number of generation')"
      ]
     },
     "execution_count": 19,
     "metadata": {},
     "output_type": "execute_result"
    },
    {
     "data": {
      "image/png": "[encoded data removed]",
      "text/plain": [
       "<Figure size 1440x720 with 1 Axes>"
      ]
     },
     "metadata": {
      "needs_background": "light"
     },
     "output_type": "display_data"
    }
   ],
   "source": [
    "xval = np.arange(1, 101)\n",
    "yval = fitness_history\n",
    "\n",
    "plt.figure(figsize=(20,10))\n",
    "plt.subplot(122)\n",
    "plt.axhline(y=0, color='r', linestyle='-')\n",
    "plt.plot(yval, color='c')\n",
    "plt.xlim(-5)\n",
    "\n",
    "plt.xlabel('Number of generation')\n",
    "plt.ylabel('Fitness')\n",
    "plt.title('Fitness vs Number of generation')"
   ]
  },
  {
   "cell_type": "markdown",
   "metadata": {
    "created_in_deepnote_cell": true,
    "deepnote_cell_type": "markdown",
    "tags": []
   },
   "source": [
    "<a style='text-decoration:none;line-height:16px;display:flex;color:#5B5B62;padding:10px;justify-content:end;' href='https://deepnote.com?utm_source=created-in-deepnote-cell&projectId=158f0e5f-0c09-4da4-a8e2-16b96f03a497' target=\"_blank\">\n",
    "<img alt='Created in deepnote.com' style='display:inline;max-height:16px;margin:0px;margin-right:7.5px;' src='data:image/svg+xml;base64,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' > </img>\n",
    "Created in <span style='font-weight:600;margin-left:4px;'>Deepnote</span></a>"
   ]
  }
 ],
 "metadata": {
  "colab": {
   "name": "AI Project_GA.ipynb",
   "provenance": []
  },
  "deepnote": {},
  "deepnote_execution_queue": [],
  "deepnote_notebook_id": "1c8070e8-fe7a-479f-83c5-967a45f46ae1",
  "kernelspec": {
   "display_name": "Python 3 (ipykernel)",
   "language": "python",
   "name": "python3"
  },
  "language_info": {
   "codemirror_mode": {
    "name": "ipython",
    "version": 3
   },
   "file_extension": ".py",
   "mimetype": "text/x-python",
   "name": "python",
   "nbconvert_exporter": "python",
   "pygments_lexer": "ipython3",
   "version": "3.10.4"
  }
 },
 "nbformat": 4,
 "nbformat_minor": 1
}
